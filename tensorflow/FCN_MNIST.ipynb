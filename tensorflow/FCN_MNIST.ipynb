{
 "cells": [
  {
   "cell_type": "markdown",
   "metadata": {},
   "source": [
    "# Experiment with FCN for detection\n",
    "### Idea:\n",
    "Train network (Converted to fully convolutional neural network) with one size, than use the same classifer with different multiple sizes to create a feature grid.\n",
    "\n",
    "### Refereces:\n",
    "* https://github.com/leonardoaraujosantos/DLMatFramework/blob/master/learn/python_notebooks/Tensorflow/TF_MNIST_CNN.ipynb\n",
    "* https://github.com/MarvinTeichmann/tensorflow-fcn"
   ]
  },
  {
   "cell_type": "code",
   "execution_count": 1,
   "metadata": {
    "collapsed": false
   },
   "outputs": [
    {
     "name": "stdout",
     "output_type": "stream",
     "text": [
      "Extracting MNIST_data/train-images-idx3-ubyte.gz\n",
      "Extracting MNIST_data/train-labels-idx1-ubyte.gz\n",
      "Extracting MNIST_data/t10k-images-idx3-ubyte.gz\n",
      "Extracting MNIST_data/t10k-labels-idx1-ubyte.gz\n"
     ]
    }
   ],
   "source": [
    "import tensorflow as tf\n",
    "import numpy as np\n",
    "import matplotlib.pyplot as plt\n",
    "from tensorflow.examples.tutorials.mnist import input_data\n",
    "mnist = input_data.read_data_sets(\"MNIST_data/\", one_hot=True)\n"
   ]
  },
  {
   "cell_type": "markdown",
   "metadata": {},
   "source": [
    "## Display some images"
   ]
  },
  {
   "cell_type": "code",
   "execution_count": 2,
   "metadata": {
    "collapsed": false
   },
   "outputs": [
    {
     "data": {
      "image/png": "[encoded data removed]",
      "text/plain": [
       "<matplotlib.figure.Figure at 0x7fad12e3c828>"
      ]
     },
     "metadata": {},
     "output_type": "display_data"
    }
   ],
   "source": [
    "imgDigit = mnist.train.images[1]\n",
    "plt.imshow(imgDigit.reshape([28,28]))\n",
    "plt.show()"
   ]
  },
  {
   "cell_type": "code",
   "execution_count": 3,
   "metadata": {
    "collapsed": false
   },
   "outputs": [
    {
     "name": "stdout",
     "output_type": "stream",
     "text": [
      "Shape: (1568,)\n"
     ]
    },
    {
     "data": {
      "image/png": "[encoded data removed]",
      "text/plain": [
       "<matplotlib.figure.Figure at 0x7fad11202780>"
      ]
     },
     "metadata": {},
     "output_type": "display_data"
    }
   ],
   "source": [
    "imgDigit_first = mnist.train.images[1]\n",
    "imgDigit_second = mnist.train.images[2]\n",
    "imgDigits = np.concatenate((imgDigit_first, imgDigit_second), axis=0)\n",
    "print('Shape:',imgDigits.shape)\n",
    "plt.imshow(imgDigits.reshape([56,28]))\n",
    "plt.show()"
   ]
  },
  {
   "cell_type": "markdown",
   "metadata": {},
   "source": [
    "## Utility Functions"
   ]
  },
  {
   "cell_type": "code",
   "execution_count": 5,
   "metadata": {
    "collapsed": true
   },
   "outputs": [],
   "source": [
    "def weight_variable(shape):\n",
    "    initializer = tf.contrib.layers.xavier_initializer_conv2d()\n",
    "    #w = tf.Variable(initializer(shape=shape), name=\"weights\")        \n",
    "        \n",
    "    #initial = tf.truncated_normal(shape, stddev=0.1)\n",
    "    #return tf.Variable(initial)\n",
    "    return tf.Variable(initializer(shape=shape))\n",
    "\n",
    "def bias_variable(shape):\n",
    "    initial = tf.constant(0.1, shape=shape)\n",
    "    return tf.Variable(initial)"
   ]
  },
  {
   "cell_type": "code",
   "execution_count": 6,
   "metadata": {
    "collapsed": false
   },
   "outputs": [],
   "source": [
    "def conv2d(x, W, pad='SAME'):\n",
    "    return tf.nn.conv2d(x, W, strides=[1, 1, 1, 1], padding=pad)    \n",
    "\n",
    "def max_pool_2x2(x):\n",
    "    return tf.nn.max_pool(x, ksize=[1, 2, 2, 1],strides=[1, 2, 2, 1], padding='SAME')"
   ]
  },
  {
   "cell_type": "markdown",
   "metadata": {},
   "source": [
    "## Define Network"
   ]
  },
  {
   "cell_type": "code",
   "execution_count": 7,
   "metadata": {
    "collapsed": false
   },
   "outputs": [],
   "source": [
    "# Create placeholders (I/O for our model/graph)\n",
    "#x = tf.placeholder(tf.float32, shape=[None, 784])\n",
    "x = tf.placeholder(\"float\", None)\n",
    "y_ = tf.placeholder(tf.float32, shape=[None, 10])\n",
    "\n",
    "# Convert the feature vector to a (-1)x28x28x1 image\n",
    "# The -1 has the same effect as the \"None\" value, and will\n",
    "# be used to inform a variable batch size\n",
    "#x_image = tf.reshape(x, [-1,28,28,1])\n",
    "x_image = tf.reshape(x, [-1,28,28,1])\n",
    "\n",
    "# First layer\n",
    "W_conv1 = weight_variable([7, 7, 1, 32])\n",
    "b_conv1 = bias_variable([32])\n",
    "h_conv1 = tf.nn.relu(conv2d(x_image, W_conv1) + b_conv1)\n",
    "h_pool1 = max_pool_2x2(h_conv1)\n",
    "\n",
    "# Second layer\n",
    "W_conv2 = weight_variable([3, 3, 32, 64])\n",
    "b_conv2 = bias_variable([64])\n",
    "h_conv2 = tf.nn.relu(conv2d(h_pool1, W_conv2) + b_conv2)\n",
    "h_pool2 = max_pool_2x2(h_conv2)\n",
    "\n",
    "# Third layer\n",
    "W_conv3 = weight_variable([3, 3, 64, 128])\n",
    "b_conv3 = bias_variable([128])\n",
    "h_conv3 = tf.nn.relu(conv2d(h_pool2, W_conv3) + b_conv3)\n",
    "h_pool3 = max_pool_2x2(h_conv3)\n",
    "\n",
    "# Forth layer\n",
    "W_conv4 = weight_variable([1, 1, 128, 64])\n",
    "b_conv4 = bias_variable([64])\n",
    "h_conv4 = tf.nn.relu(conv2d(h_pool3, W_conv4) + b_conv4)\n",
    "#h_pool4 = max_pool_2x2(h_conv4)\n",
    "h_pool4 = h_conv4\n",
    "\n",
    "# Final layer (Converted to FCN)\n",
    "W_final = weight_variable([4, 4, 64, 10])\n",
    "b_final = bias_variable([10])\n",
    "h_final = tf.nn.relu(conv2d(h_pool4, W_final, 'VALID') + b_final)\n",
    "\n",
    "# Last output layer (But first need to convert 1x1x10 to 10)\n",
    "#y_conv = tf.reshape(h_final, [])\n",
    "y_conv = tf.squeeze(h_final)"
   ]
  },
  {
   "cell_type": "markdown",
   "metadata": {},
   "source": [
    "## Define loss"
   ]
  },
  {
   "cell_type": "code",
   "execution_count": 8,
   "metadata": {
    "collapsed": false
   },
   "outputs": [],
   "source": [
    "cross_entropy = tf.reduce_mean(tf.nn.softmax_cross_entropy_with_logits(logits=y_conv, labels=y_))\n",
    "train_step = tf.train.AdamOptimizer(1e-4).minimize(cross_entropy)\n",
    "\n",
    "correct_prediction = tf.equal(tf.argmax(y_conv,1), tf.argmax(y_,1))\n",
    "accuracy = tf.reduce_mean(tf.cast(correct_prediction, tf.float32))"
   ]
  },
  {
   "cell_type": "markdown",
   "metadata": {},
   "source": [
    "## Initialize graph"
   ]
  },
  {
   "cell_type": "code",
   "execution_count": 9,
   "metadata": {
    "collapsed": true
   },
   "outputs": [],
   "source": [
    "init = tf.global_variables_initializer()\n",
    "\n",
    "# Avoid allocating the whole memory\n",
    "gpu_options = tf.GPUOptions(per_process_gpu_memory_fraction=0.333)\n",
    "sess = tf.Session(config=tf.ConfigProto(gpu_options=gpu_options))\n",
    "\n",
    "#sess = tf.Session()\n",
    "sess.run(init)\n",
    "\n",
    "merged_summary = tf.summary.merge_all()\n",
    "writer = tf.summary.FileWriter(\"/tmp/mnist_demo/1\")\n",
    "writer.add_graph(sess.graph)"
   ]
  },
  {
   "cell_type": "markdown",
   "metadata": {},
   "source": [
    "## Train network"
   ]
  },
  {
   "cell_type": "code",
   "execution_count": 10,
   "metadata": {
    "collapsed": false
   },
   "outputs": [
    {
     "name": "stdout",
     "output_type": "stream",
     "text": [
      "step 0, training accuracy 0.12\n",
      "step 100, training accuracy 0.52\n",
      "step 200, training accuracy 0.54\n",
      "step 300, training accuracy 0.7\n",
      "step 400, training accuracy 0.6\n",
      "step 500, training accuracy 0.68\n",
      "step 600, training accuracy 0.86\n",
      "step 700, training accuracy 0.72\n",
      "step 800, training accuracy 0.78\n",
      "step 900, training accuracy 0.78\n",
      "step 1000, training accuracy 0.8\n",
      "step 1100, training accuracy 0.82\n",
      "step 1200, training accuracy 0.78\n",
      "step 1300, training accuracy 0.58\n",
      "step 1400, training accuracy 0.84\n",
      "step 1500, training accuracy 0.8\n",
      "step 1600, training accuracy 0.84\n",
      "step 1700, training accuracy 0.72\n",
      "step 1800, training accuracy 0.76\n",
      "step 1900, training accuracy 0.78\n"
     ]
    }
   ],
   "source": [
    "for i in range(2000):\n",
    "    # Get batch of 50 images\n",
    "    batch = mnist.train.next_batch(50)\n",
    "    \n",
    "    # Print each 100 epochs\n",
    "    if i%100 == 0:\n",
    "        # Calculate train accuracy\n",
    "        train_accuracy = accuracy.eval(session=sess, feed_dict={x:batch[0], y_: batch[1], keep_prob: 1.0})\n",
    "        print(\"step %d, training accuracy %g\"%(i, train_accuracy))\n",
    "    \n",
    "    # Train actually here\n",
    "    train_step.run(session=sess, feed_dict={x: batch[0], y_: batch[1], keep_prob: 0.5})"
   ]
  },
  {
   "cell_type": "code",
   "execution_count": 11,
   "metadata": {
    "collapsed": false
   },
   "outputs": [
    {
     "name": "stdout",
     "output_type": "stream",
     "text": [
      "Test Accuracy: 0.7769\n"
     ]
    }
   ],
   "source": [
    "print(\"Test Accuracy:\", sess.run(accuracy, feed_dict={x: mnist.test.images, y_: mnist.test.labels, keep_prob: 1.0}))"
   ]
  },
  {
   "cell_type": "markdown",
   "metadata": {},
   "source": [
    "## Inference with single image\n",
    "Here we just to inference on the same size that we trained"
   ]
  },
  {
   "cell_type": "code",
   "execution_count": 12,
   "metadata": {
    "collapsed": false
   },
   "outputs": [
    {
     "name": "stdout",
     "output_type": "stream",
     "text": [
      "Original shape: (784,)\n",
      "3\n",
      "4\n"
     ]
    }
   ],
   "source": [
    "print('Original shape:',imgDigit_first.shape)\n",
    "print(np.argmax(sess.run(y_conv, feed_dict={x: imgDigit_first.reshape(-1,784), keep_prob: 1.0})))\n",
    "print(np.argmax(sess.run(y_conv, feed_dict={x: imgDigit_second.reshape(-1,784), keep_prob: 1.0})))"
   ]
  },
  {
   "cell_type": "markdown",
   "metadata": {},
   "source": [
    "## Inference with tiled image\n",
    "On this example we give to the network a concatenated image"
   ]
  },
  {
   "cell_type": "code",
   "execution_count": 24,
   "metadata": {
    "collapsed": false
   },
   "outputs": [
    {
     "data": {
      "image/png": "[encoded data removed]",
      "text/plain": [
       "<matplotlib.figure.Figure at 0x7fad12e3c400>"
      ]
     },
     "metadata": {},
     "output_type": "display_data"
    },
    {
     "name": "stdout",
     "output_type": "stream",
     "text": [
      "Input shape: (1568,)\n",
      "Result shape: (2, 10)\n",
      "[3 4]\n"
     ]
    }
   ],
   "source": [
    "plt.imshow(imgDigits.reshape([56,28]))\n",
    "plt.show()\n",
    "reshaped_digits = imgDigits.reshape(-1)\n",
    "result = sess.run(y_conv, feed_dict={x: reshaped_digits, keep_prob: 1.0})\n",
    "print('Input shape:',reshaped_digits.shape)\n",
    "print('Result shape:',result.shape)\n",
    "print(np.argmax(result, axis=1))"
   ]
  }
 ],
 "metadata": {
  "kernelspec": {
   "display_name": "Python 3",
   "language": "python",
   "name": "python3"
  },
  "language_info": {
   "codemirror_mode": {
    "name": "ipython",
    "version": 3
   },
   "file_extension": ".py",
   "mimetype": "text/x-python",
   "name": "python",
   "nbconvert_exporter": "python",
   "pygments_lexer": "ipython3",
   "version": "3.6.0"
  }
 },
 "nbformat": 4,
 "nbformat_minor": 2
}
