{
 "cells": [
  {
   "cell_type": "markdown",
   "metadata": {},
   "source": [
    "# Experiment with FCN for detection\n",
    "### Idea:\n",
    "Train network (Converted to fully convolutional neural network) with one size, than use the same classifer with different multiple sizes to create a feature grid.\n",
    "\n",
    "### Refereces:\n",
    "* https://github.com/Burton2000/CS231n-2017/blob/master/assignment2/PyTorch.ipynb\n",
    "* https://github.com/pytorch/examples/blob/master/mnist/main.py\n",
    "* https://github.com/wkentaro/pytorch-fcn"
   ]
  },
  {
   "cell_type": "code",
   "execution_count": 12,
   "metadata": {
    "collapsed": false
   },
   "outputs": [
    {
     "name": "stdout",
     "output_type": "stream",
     "text": [
      "Successfully downloaded train-images-idx3-ubyte.gz 9912422 bytes.\n",
      "Extracting MNIST_data/train-images-idx3-ubyte.gz\n",
      "Successfully downloaded train-labels-idx1-ubyte.gz 28881 bytes.\n",
      "Extracting MNIST_data/train-labels-idx1-ubyte.gz\n",
      "Successfully downloaded t10k-images-idx3-ubyte.gz 1648877 bytes.\n",
      "Extracting MNIST_data/t10k-images-idx3-ubyte.gz\n",
      "Successfully downloaded t10k-labels-idx1-ubyte.gz 4542 bytes.\n",
      "Extracting MNIST_data/t10k-labels-idx1-ubyte.gz\n"
     ]
    }
   ],
   "source": [
    "import numpy as np\n",
    "import matplotlib.pyplot as plt\n",
    "import torch\n",
    "import torch.nn as nn\n",
    "import torch.nn.functional as F\n",
    "import torch.optim as optim\n",
    "from torchvision import datasets, transforms\n",
    "from torch.autograd import Variable\n",
    "from tensorflow.examples.tutorials.mnist import input_data\n",
    "mnist = input_data.read_data_sets(\"MNIST_data/\", one_hot=True)\n",
    "\n",
    "\n",
    "torch.cuda.manual_seed(1)\n",
    "\n",
    "batch_size = 500\n",
    "test_batch_size = 1000\n",
    "epochs = 10\n",
    "\n",
    "\n",
    "kwargs = {'num_workers': 1, 'pin_memory': True}\n",
    "\n",
    "train_loader = torch.utils.data.DataLoader(\n",
    "    datasets.MNIST('../data', train=True, download=True,transform=\n",
    "                   transforms.Compose([\n",
    "                       transforms.ToTensor(),\n",
    "                       transforms.Normalize((0.1307,), (0.3081,))])),\n",
    "    batch_size=batch_size, shuffle=True, **kwargs)\n",
    "\n",
    "test_loader = torch.utils.data.DataLoader(\n",
    "    datasets.MNIST('../data', train=False, transform=transforms.Compose([\n",
    "                       transforms.ToTensor(),\n",
    "                       transforms.Normalize((0.1307,), (0.3081,))\n",
    "                   ])),\n",
    "    batch_size=test_batch_size, shuffle=True, **kwargs)\n"
   ]
  },
  {
   "cell_type": "markdown",
   "metadata": {},
   "source": [
    "## Display some images"
   ]
  },
  {
   "cell_type": "code",
   "execution_count": 13,
   "metadata": {
    "collapsed": false
   },
   "outputs": [
    {
     "data": {
      "image/png": "[encoded data removed]",
      "text/plain": [
       "<matplotlib.figure.Figure at 0x7f717ac9d128>"
      ]
     },
     "metadata": {},
     "output_type": "display_data"
    }
   ],
   "source": [
    "imgDigit = mnist.train.images[1]\n",
    "plt.imshow(imgDigit.reshape([28,28]))\n",
    "plt.show()"
   ]
  },
  {
   "cell_type": "code",
   "execution_count": 14,
   "metadata": {
    "collapsed": false
   },
   "outputs": [
    {
     "name": "stdout",
     "output_type": "stream",
     "text": [
      "Shape: (1568,)\n"
     ]
    },
    {
     "data": {
      "image/png": "[encoded data removed]",
      "text/plain": [
       "<matplotlib.figure.Figure at 0x7f71cb7eb320>"
      ]
     },
     "metadata": {},
     "output_type": "display_data"
    }
   ],
   "source": [
    "imgDigit_first = mnist.train.images[1]\n",
    "imgDigit_second = mnist.train.images[2]\n",
    "imgDigits = np.concatenate((imgDigit_first, imgDigit_second), axis=0)\n",
    "print('Shape:',imgDigits.shape)\n",
    "plt.imshow(imgDigits.reshape([56,28]))\n",
    "plt.show()"
   ]
  },
  {
   "cell_type": "markdown",
   "metadata": {},
   "source": [
    "## Define Network"
   ]
  },
  {
   "cell_type": "code",
   "execution_count": 2,
   "metadata": {
    "collapsed": false
   },
   "outputs": [],
   "source": [
    "class Net(nn.Module):\n",
    "    def __init__(self):\n",
    "        super(Net, self).__init__()\n",
    "        self.conv1 = nn.Conv2d(1, 32, kernel_size=7, padding=3)\n",
    "        self.conv2 = nn.Conv2d(32, 64, kernel_size=3, padding=1)\n",
    "        self.conv3 = nn.Conv2d(64, 128, kernel_size=3, padding=1)\n",
    "        self.conv4 = nn.Conv2d(128, 64, kernel_size=1, padding=0)\n",
    "        self.conv_final = nn.Conv2d(64, 10, kernel_size=3, padding=0)        \n",
    "\n",
    "    def forward(self, x):\n",
    "        x = F.relu(F.max_pool2d(self.conv1(x), 2))\n",
    "        x = F.relu(F.max_pool2d(self.conv2(x), 2))\n",
    "        x = F.relu(F.max_pool2d(self.conv3(x), 2))\n",
    "        x = F.relu(self.conv4(x))        \n",
    "        x = F.relu(self.conv_final(x))\n",
    "        \n",
    "        # Squeeze before send to loss\n",
    "        x = torch.squeeze(x)        \n",
    "                \n",
    "        # Define loss\n",
    "        return F.log_softmax(x)"
   ]
  },
  {
   "cell_type": "markdown",
   "metadata": {},
   "source": [
    "## Initialize graph"
   ]
  },
  {
   "cell_type": "code",
   "execution_count": 6,
   "metadata": {
    "collapsed": true
   },
   "outputs": [],
   "source": [
    "model = Net()\n",
    "model.cuda()\n",
    "\n",
    "# Define optimizer\n",
    "optimizer = optim.Adam(model.parameters(), lr=1e-3)"
   ]
  },
  {
   "cell_type": "markdown",
   "metadata": {},
   "source": [
    "## Train network"
   ]
  },
  {
   "cell_type": "code",
   "execution_count": 10,
   "metadata": {
    "collapsed": false
   },
   "outputs": [
    {
     "name": "stdout",
     "output_type": "stream",
     "text": [
      "Train Epoch: 0 [0/60000 (0%)]\tLoss: 0.931141\n",
      "Train Epoch: 0 [50000/60000 (83%)]\tLoss: 0.887991\n",
      "Train Epoch: 1 [0/60000 (0%)]\tLoss: 0.878314\n",
      "Train Epoch: 1 [50000/60000 (83%)]\tLoss: 0.829152\n",
      "Train Epoch: 2 [0/60000 (0%)]\tLoss: 0.842919\n",
      "Train Epoch: 2 [50000/60000 (83%)]\tLoss: 0.953361\n",
      "Train Epoch: 3 [0/60000 (0%)]\tLoss: 0.859417\n",
      "Train Epoch: 3 [50000/60000 (83%)]\tLoss: 0.963230\n",
      "Train Epoch: 4 [0/60000 (0%)]\tLoss: 1.059571\n",
      "Train Epoch: 4 [50000/60000 (83%)]\tLoss: 0.875157\n",
      "Train Epoch: 5 [0/60000 (0%)]\tLoss: 0.856584\n",
      "Train Epoch: 5 [50000/60000 (83%)]\tLoss: 0.916808\n",
      "Train Epoch: 6 [0/60000 (0%)]\tLoss: 0.889184\n",
      "Train Epoch: 6 [50000/60000 (83%)]\tLoss: 0.930345\n",
      "Train Epoch: 7 [0/60000 (0%)]\tLoss: 0.976443\n",
      "Train Epoch: 7 [50000/60000 (83%)]\tLoss: 0.907948\n",
      "Train Epoch: 8 [0/60000 (0%)]\tLoss: 0.870659\n",
      "Train Epoch: 8 [50000/60000 (83%)]\tLoss: 0.934882\n",
      "Train Epoch: 9 [0/60000 (0%)]\tLoss: 0.958060\n",
      "Train Epoch: 9 [50000/60000 (83%)]\tLoss: 0.838332\n"
     ]
    }
   ],
   "source": [
    "for epoch in range(epochs):\n",
    "    model.train()\n",
    "    for batch_idx, (data, target) in enumerate(train_loader):\n",
    "\n",
    "        # Push data to GPU\n",
    "        data, target = data.cuda(), target.cuda()\n",
    "\n",
    "        # Indicate that we want to use auto-grad here\n",
    "        data, target = Variable(data), Variable(target)\n",
    "\n",
    "        # Always zero-gradients\n",
    "        optimizer.zero_grad()\n",
    "        # Forward\n",
    "        output = model(data)\n",
    "        loss = F.nll_loss(output, target)\n",
    "        # Backward\n",
    "        loss.backward()\n",
    "\n",
    "        optimizer.step()\n",
    "\n",
    "        if batch_idx % 100 == 0:\n",
    "            print('Train Epoch: {} [{}/{} ({:.0f}%)]\\tLoss: {:.6f}'.format(\n",
    "                epoch, batch_idx * len(data), len(train_loader.dataset),\n",
    "                100. * batch_idx / len(train_loader), loss.data[0]))"
   ]
  },
  {
   "cell_type": "markdown",
   "metadata": {},
   "source": [
    "## Test Network"
   ]
  },
  {
   "cell_type": "code",
   "execution_count": 27,
   "metadata": {
    "collapsed": false
   },
   "outputs": [
    {
     "name": "stdout",
     "output_type": "stream",
     "text": [
      "\n",
      "Test set: Average loss: 0.9195, Accuracy: 6068/10000 (61%)\n",
      "\n"
     ]
    }
   ],
   "source": [
    "model.eval()\n",
    "test_loss = 0\n",
    "correct = 0\n",
    "for data, target in test_loader:\n",
    "    \n",
    "    # Push data to GPU\n",
    "    data, target = data.cuda(), target.cuda()    \n",
    "        \n",
    "    data, target = Variable(data, volatile=True), Variable(target)\n",
    "    output = model(data)\n",
    "    test_loss += F.nll_loss(output, target, size_average=False).data[0] # sum up batch loss\n",
    "    pred = output.data.max(1, keepdim=True)[1] # get the index of the max log-probability\n",
    "    correct += pred.eq(target.data.view_as(pred)).cpu().sum()\n",
    "\n",
    "test_loss /= len(test_loader.dataset)\n",
    "print('\\nTest set: Average loss: {:.4f}, Accuracy: {}/{} ({:.0f}%)\\n'.format(\n",
    "    test_loss, correct, len(test_loader.dataset),\n",
    "    100. * correct / len(test_loader.dataset)))"
   ]
  },
  {
   "cell_type": "markdown",
   "metadata": {},
   "source": [
    "## Inference with single image\n",
    "Here we just to inference on the same size that we trained"
   ]
  },
  {
   "cell_type": "code",
   "execution_count": 53,
   "metadata": {
    "collapsed": false
   },
   "outputs": [
    {
     "name": "stdout",
     "output_type": "stream",
     "text": [
      "Original shape: (784,)\n",
      "3\n",
      "4\n"
     ]
    }
   ],
   "source": [
    "print('Original shape:',imgDigit_first.shape)\n",
    "\n",
    "# The input of the model must be a Variable, also if the model is on GPU I should move to GPU as well\n",
    "data = Variable(torch.from_numpy(imgDigit_first.reshape(1,1,28,28))).cuda()\n",
    "result = model(data)\n",
    "#print(type(result))\n",
    "#print(type(result.cpu().data.numpy()))\n",
    "result_np = result.cpu().data.numpy()\n",
    "print(np.argmax(result_np))\n",
    "\n",
    "data = Variable(torch.from_numpy(imgDigit_second.reshape(1,1,28,28))).cuda()\n",
    "result = model(data)\n",
    "#print(type(result))\n",
    "#print(type(result.cpu().data.numpy()))\n",
    "result_np = result.cpu().data.numpy()\n",
    "print(np.argmax(result_np))"
   ]
  },
  {
   "cell_type": "markdown",
   "metadata": {},
   "source": [
    "## Inference with tiled image\n",
    "On this example we give to the network a concatenated image.\n",
    "Observe that the classifer is totally erratic when it's on the middle of the image.\n",
    "\n",
    "![title](Yann_FCN.gif)"
   ]
  },
  {
   "cell_type": "code",
   "execution_count": 50,
   "metadata": {
    "collapsed": false
   },
   "outputs": [
    {
     "data": {
      "image/png": "[encoded data removed]",
      "text/plain": [
       "<matplotlib.figure.Figure at 0x7f71c9cff8d0>"
      ]
     },
     "metadata": {},
     "output_type": "display_data"
    },
    {
     "name": "stdout",
     "output_type": "stream",
     "text": [
      "<class 'torch.autograd.variable.Variable'>\n",
      "<class 'numpy.ndarray'>\n",
      "[3 0 1 4 0]\n"
     ]
    }
   ],
   "source": [
    "plt.imshow(imgDigits.reshape([56,28]))\n",
    "plt.show()\n",
    "reshaped_digits = imgDigits.reshape([56, 28])\n",
    "\n",
    "data = Variable(torch.from_numpy(reshaped_digits.reshape(1,1,56,28)).cuda())\n",
    "result = model(data)\n",
    "print(type(result))\n",
    "print(type(result.cpu().data.numpy()))\n",
    "result_np = result.cpu().data.numpy()\n",
    "print(np.argmax(result_np, axis=0))"
   ]
  }
 ],
 "metadata": {
  "kernelspec": {
   "display_name": "Python 3",
   "language": "python",
   "name": "python3"
  },
  "language_info": {
   "codemirror_mode": {
    "name": "ipython",
    "version": 3
   },
   "file_extension": ".py",
   "mimetype": "text/x-python",
   "name": "python",
   "nbconvert_exporter": "python",
   "pygments_lexer": "ipython3",
   "version": "3.6.0"
  }
 },
 "nbformat": 4,
 "nbformat_minor": 2
}
